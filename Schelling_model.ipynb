{
 "cells": [
  {
   "cell_type": "markdown",
   "id": "a69a9211",
   "metadata": {},
   "source": [
    "# Lab: Schelling Model and its variants\n",
    "\n",
    "The Schelling Model of Segregation, introduced by Thomas Schelling in the 1970s, is a foundational agent-based model used to study how local preferences can lead to large-scale spatial segregation, even when individuals only have mild biases. In the model, agents of different types (e.g., colors or groups) occupy a grid and move if their local neighborhood does not meet a certain satisfaction threshold—typically based on the proportion of similar neighbors. Despite its simplicity, the Schelling model reveals powerful insights about emergent collective behavior and is widely used in fields such as economics, sociology, and urban studies.\n",
    "\n",
    "In this lab, we will implement and explore several key variants of the Schelling model to understand how changes in assumptions or rules can alter the system’s dynamics and outcomes. "
   ]
  },
  {
   "cell_type": "markdown",
   "id": "21832832",
   "metadata": {},
   "source": [
    "## Before We Start: Building a Flexible Framework\n",
    "\n",
    "To systematically explore the Schelling model and its variants, we start by **decomposing the model into modular components**. This helps us better understand how individual choices and system rules affect emergent patterns.\n",
    "\n",
    "We identify the following key components:\n",
    "\n",
    "- **Initialization strategies**: how the city and agents are initially distributed  \n",
    "  – *e.g.*, random placement, balanced layout, half-full blocks\n",
    "\n",
    "- **Agent selection**: which agent moves next  \n",
    "  – *e.g.*, random agent, agent with lowest utility\n",
    "\n",
    "- **Target selection**: where the agent may want to move  \n",
    "  – *e.g.*, random vacant cell, block with highest utility\n",
    "\n",
    "- **Move acceptance rule**: when a move is allowed  \n",
    "  – *e.g.*, only if personal utility increases, or social welfare increases, or via Metropolis-Hastings\n",
    "\n",
    "- **Stopping criteria**: when to halt the simulation  \n",
    "  – *e.g.*, fixed number of steps, or no more accepted moves"
   ]
  },
  {
   "cell_type": "markdown",
   "id": "f1f08860",
   "metadata": {},
   "source": [
    "## A Simple Baseline Implementation\n",
    "\n",
    "We now provide a basic implementation of this modular framework. You can think of this as a **template**, where different strategies can be plugged in to explore different behaviors.\n",
    "\n",
    "This baseline version implements:\n",
    "\n",
    "- A **random initialization** of agents across neighborhoods  \n",
    "- A **random agent selection**  \n",
    "- A **random target selection**  \n",
    "- A **greedy acceptance rule**: only accept moves that improve individual utility\n",
    "\n",
    "The goal here is to get familiar with the **basic data structures and control flow**."
   ]
  },
  {
   "cell_type": "markdown",
   "id": "98d50898",
   "metadata": {},
   "source": [
    "### Project Structure and Baseline Overview\n",
    "\n",
    "Our implementation is organized as a modular package `schelling/`, where each component of the simulation is separated into its own file. This makes it easier to understand, maintain, and extend.\n",
    "\n",
    "Our codebase is organized into modular components. Each file contains one specific type of strategy or helper function. This design makes it easy to swap in new behaviors and explore different variants of the Schelling model.\n",
    "\n",
    "- `initialization.py`: defines how agents are initially placed in the city\n",
    "- `agent_selector.py`: strategy for choosing which agent moves\n",
    "- `target_selector.py`: strategy for choosing where the agent might move\n",
    "- `move_acceptor.py`: rule for deciding whether a move is accepted\n",
    "- `stop_criterion.py`: determines when to stop the simulation\n",
    "- `utils.py`: shared utility functions and plotting tools\n",
    "\n",
    "Each module provides a **baseline implementation** that is simple but functional. You can find them in the respective `.py` files.\n",
    "\n",
    "In the next cells, we will import and run the baseline strategy to demonstrate how the system works."
   ]
  },
  {
   "cell_type": "code",
   "execution_count": null,
   "id": "e2611701",
   "metadata": {},
   "outputs": [],
   "source": [
    "%load_ext autoreload\n",
    "%autoreload 2\n",
    "from schelling import *\n",
    "import numpy as np"
   ]
  },
  {
   "cell_type": "code",
   "execution_count": null,
   "id": "cc683e26",
   "metadata": {},
   "outputs": [],
   "source": [
    "# === Parameters ===\n",
    "Q = 36        # number of neighborhoods\n",
    "H = 100        # capacity per block\n",
    "rho0 = 0.5    # initial global density\n",
    "max_steps = 100000\n",
    "\n",
    "# === Initialize ===\n",
    "occupied = initialization.init_random(Q, H, rho0)\n",
    "utils.plot_density_heatmap(6, 6, occupied / H, title='Density heatmap', xlabel='', ylabel='')\n"
   ]
  },
  {
   "cell_type": "code",
   "execution_count": null,
   "id": "25c0a120",
   "metadata": {},
   "outputs": [],
   "source": [
    "\n",
    "# === Main loop ===\n",
    "step = 0\n",
    "while True:\n",
    "    # Stopping criterion\n",
    "    if stop_criterion.stop_after_fixed_steps(step, max_steps):\n",
    "        print(f\"Stopped at step {step}\")\n",
    "        break\n",
    "\n",
    "    # 1. Select an agent block (weighted by number of agents)\n",
    "    from_block = agent_selector.select_agent_random(occupied)\n",
    "\n",
    "    # 2. Select a target block (must have space)\n",
    "    to_block = target_selector.select_target_random_cell(occupied, H)\n",
    "\n",
    "    # 3. Check if move is accepted (Δu > 0)\n",
    "    if move_acceptor.accept_if_personal_utility_improves(occupied[from_block] / H, (occupied[to_block] + 1) / H, utils.triangle_utility):\n",
    "        occupied[from_block] -= 1\n",
    "        occupied[to_block] += 1\n",
    "    step += 1"
   ]
  },
  {
   "cell_type": "code",
   "execution_count": null,
   "id": "7804d037",
   "metadata": {},
   "outputs": [],
   "source": [
    "utils.plot_density_heatmap(6, 6, occupied / H, title='Density heatmap', xlabel='', ylabel='')"
   ]
  }
 ],
 "metadata": {
  "kernelspec": {
   "display_name": "base",
   "language": "python",
   "name": "python3"
  },
  "language_info": {
   "codemirror_mode": {
    "name": "ipython",
    "version": 3
   },
   "file_extension": ".py",
   "mimetype": "text/x-python",
   "name": "python",
   "nbconvert_exporter": "python",
   "pygments_lexer": "ipython3",
   "version": "3.12.4"
  }
 },
 "nbformat": 4,
 "nbformat_minor": 5
}
